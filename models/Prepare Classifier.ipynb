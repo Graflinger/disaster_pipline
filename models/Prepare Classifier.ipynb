{
 "cells": [
  {
   "cell_type": "code",
   "execution_count": 5,
   "metadata": {
    "scrolled": true
   },
   "outputs": [
    {
     "name": "stderr",
     "output_type": "stream",
     "text": [
      "[nltk_data] Downloading package punkt to\n",
      "[nltk_data]     C:\\Users\\stefa\\AppData\\Roaming\\nltk_data...\n",
      "[nltk_data]   Package punkt is already up-to-date!\n",
      "[nltk_data] Downloading package wordnet to\n",
      "[nltk_data]     C:\\Users\\stefa\\AppData\\Roaming\\nltk_data...\n",
      "[nltk_data]   Package wordnet is already up-to-date!\n",
      "[nltk_data] Downloading package averaged_perceptron_tagger to\n",
      "[nltk_data]     C:\\Users\\stefa\\AppData\\Roaming\\nltk_data...\n",
      "[nltk_data]   Package averaged_perceptron_tagger is already up-to-\n",
      "[nltk_data]       date!\n"
     ]
    },
    {
     "name": "stdout",
     "output_type": "stream",
     "text": [
      "Loading data...\n",
      "    DATABASE: ../Data/DisasterResponse.db\n",
      "Trained model saved!\n"
     ]
    }
   ],
   "source": [
    "import sys\n",
    "import nltk\n",
    "nltk.download(['punkt', 'wordnet', 'averaged_perceptron_tagger'])\n",
    "\n",
    "import re\n",
    "import numpy as np\n",
    "import pandas as pd\n",
    "from nltk.tokenize import word_tokenize\n",
    "from nltk.stem import WordNetLemmatizer\n",
    "import pickle\n",
    "\n",
    "from sqlalchemy import create_engine\n",
    "\n",
    "from sklearn.metrics import confusion_matrix, classification_report\n",
    "from sklearn.model_selection import GridSearchCV\n",
    "from sklearn.ensemble import RandomForestClassifier\n",
    "from sklearn.model_selection import train_test_split\n",
    "from sklearn.pipeline import Pipeline, FeatureUnion\n",
    "from sklearn.base import BaseEstimator, TransformerMixin\n",
    "from sklearn.feature_extraction.text import CountVectorizer, TfidfTransformer\n",
    "from sklearn.multioutput import MultiOutputClassifier\n",
    "\n",
    "\n",
    "def load_data(database_filepath):\n",
    "   \n",
    "    table_name = \"disaster_respone\"\n",
    "    \n",
    "    engine = create_engine('sqlite:///' + database_filepath)\n",
    "    \n",
    "    df = pd.read_sql_table(table_name, con=engine)\n",
    "    \n",
    "    df = df.iloc[:200]\n",
    "    \n",
    "    X = df[\"message\"].values\n",
    "    \n",
    "    y = df.iloc[:,5:]\n",
    "    \n",
    "    category_names =  y.columns\n",
    "\n",
    "    return X, y, category_names\n",
    "\n",
    "class StartingVerbExtractor(BaseEstimator, TransformerMixin):\n",
    "\n",
    "    def starting_verb(self, text):\n",
    "        sentence_list = nltk.sent_tokenize(text)\n",
    "        for sentence in sentence_list:\n",
    "            pos_tags = nltk.pos_tag(tokenize(sentence))\n",
    "            try:\n",
    "                first_word, first_tag = pos_tags[0]\n",
    "                if first_tag in ['VB', 'VBP'] or first_word == 'RT':\n",
    "                    return True\n",
    "            except:\n",
    "                return False\n",
    "        return False\n",
    "\n",
    "    def fit(self, x, y=None):\n",
    "        return self\n",
    "\n",
    "    def transform(self, X):\n",
    "        X_tagged = pd.Series(X).apply(self.starting_verb)\n",
    "        return pd.DataFrame(X_tagged)\n",
    "\n",
    "\n",
    "def tokenize(text):\n",
    "    url_regex = 'http[s]?://(?:[a-zA-Z]|[0-9]|[$-_@.&+]|[!*\\(\\),]|(?:%[0-9a-fA-F][0-9a-fA-F]))+'\n",
    "\n",
    "    detected_urls = re.findall(url_regex, text)\n",
    "    for url in detected_urls:\n",
    "        text = text.replace(url, \"urlplaceholder\")\n",
    "    \n",
    "    #remove all special characters\n",
    "    text = re.sub(r'[^a-zA-Z0-9]', ' ', text.lower())\n",
    "    \n",
    "    tokens = word_tokenize(text)\n",
    "    lemmatizer = WordNetLemmatizer()\n",
    "\n",
    "    clean_tokens = []\n",
    "    for tok in tokens:\n",
    "        clean_tok = lemmatizer.lemmatize(tok).lower().strip()\n",
    "        clean_tokens.append(clean_tok)\n",
    "\n",
    "    return clean_tokens\n",
    "\n",
    "\n",
    "def build_model():\n",
    "    '''\n",
    "    build the GridSearchCV Model via usage of a pipeline and defines the parameters for the moden \n",
    "            Parameters:\n",
    "                    None\n",
    "            Returns:\n",
    "                    cv(obj): GridSearchCV model \n",
    "    '''\n",
    "    rfc = RandomForestClassifier()\n",
    "    classifier = MultiOutputClassifier(rfc)\n",
    "    \n",
    "    # define Pipeline\n",
    "    pipeline = Pipeline([\n",
    "        ('vect', CountVectorizer(tokenizer=tokenize)),\n",
    "        ('tfidf', TfidfTransformer()),\n",
    "        ('clf', classifier)])\n",
    "\n",
    "    # define parameters\n",
    "    parameters = {\n",
    "        'clf__estimator__min_samples_leaf': [50],\n",
    "        'clf__estimator__min_samples_leaf': [2],\n",
    "    }\n",
    "\n",
    "    cv = GridSearchCV(pipeline, param_grid=parameters, n_jobs=4)\n",
    "\n",
    "    return cv\n",
    "\n",
    "    \n",
    "\n",
    "\n",
    "def evaluate_model(model, X_test, Y_test, category_names):\n",
    "    y_pred = model.predict(X_test)\n",
    "    print(classification_report(Y_test, y_pred, target_names=category_names))\n",
    "\n",
    "\n",
    "def save_model(model, model_filepath):\n",
    "    pickle.dump(model, open(model_filepath, 'wb'))\n",
    "\n",
    "\n",
    "database_filepath, model_filepath =  \"../Data/DisasterResponse.db\", \"classifier.pkl\"\n",
    "print('Loading data...\\n    DATABASE: {}'.format(database_filepath))\n",
    "X, Y, category_names = load_data(database_filepath)\n",
    "X_train, X_test, Y_train, Y_test = train_test_split(X, Y, test_size=0.2)\n",
    "\n",
    "# print('Building model...')\n",
    "# model = build_model()\n",
    "\n",
    "# print('Training model...')\n",
    "# model.fit(X_train, Y_train)\n",
    "\n",
    "# print('Evaluating model...')\n",
    "# evaluate_model(model, X_test, Y_test, category_names)\n",
    "\n",
    "# print('Saving model...\\n    MODEL: {}'.format(model_filepath))\n",
    "# save_model(model, model_filepath)\n",
    "\n",
    "print('Trained model saved!')\n",
    "\n",
    "\n",
    "\n"
   ]
  },
  {
   "cell_type": "code",
   "execution_count": 2,
   "metadata": {},
   "outputs": [],
   "source": [
    " pipeline = Pipeline([\n",
    "        ('features', FeatureUnion([\n",
    "\n",
    "            ('text_pipeline', Pipeline([\n",
    "                ('vect', CountVectorizer(tokenizer=tokenize)),\n",
    "                ('tfidf', TfidfTransformer())\n",
    "            ])),\n",
    "\n",
    "            ('starting_verb', StartingVerbExtractor())\n",
    "        ])),\n",
    "\n",
    "        ('clf', RandomForestClassifier())\n",
    "    ])"
   ]
  },
  {
   "cell_type": "code",
   "execution_count": 9,
   "metadata": {},
   "outputs": [],
   "source": [
    "try:\n",
    "    a = 0\n",
    "except:\n",
    "    True"
   ]
  },
  {
   "cell_type": "code",
   "execution_count": 18,
   "metadata": {},
   "outputs": [],
   "source": [
    "# evaluate_model(model, X_test, Y_test, category_names)"
   ]
  },
  {
   "cell_type": "code",
   "execution_count": 20,
   "metadata": {},
   "outputs": [
    {
     "data": {
      "text/plain": [
       "(40, 36)"
      ]
     },
     "execution_count": 20,
     "metadata": {},
     "output_type": "execute_result"
    }
   ],
   "source": [
    "Y_test.shape"
   ]
  },
  {
   "cell_type": "code",
   "execution_count": 25,
   "metadata": {},
   "outputs": [],
   "source": [
    "table_name = \"disaster_respone\"\n",
    "    \n",
    "engine = create_engine('sqlite:///' + database_filepath)\n",
    "\n",
    "df = pd.read_sql_table(table_name, con=engine)"
   ]
  },
  {
   "cell_type": "code",
   "execution_count": 27,
   "metadata": {},
   "outputs": [],
   "source": [
    "df[\"message_len\"] = df[\"message\"].str.len()"
   ]
  },
  {
   "cell_type": "code",
   "execution_count": 41,
   "metadata": {},
   "outputs": [],
   "source": [
    "def message_length_category(length):\n",
    "    if length <= 50:\n",
    "        return '<= 50'\n",
    "    elif length <= 100:\n",
    "        return '<= 100'\n",
    "    elif length <= 150:\n",
    "        return '<= 150'\n",
    "    else:\n",
    "        return '> 150'"
   ]
  },
  {
   "cell_type": "code",
   "execution_count": 81,
   "metadata": {},
   "outputs": [],
   "source": [
    "message_length_categorie_list = df.message_len.apply(message_length_category)"
   ]
  },
  {
   "cell_type": "code",
   "execution_count": 82,
   "metadata": {},
   "outputs": [],
   "source": [
    "categories = df[\"message_length_category\"].unique()"
   ]
  },
  {
   "cell_type": "code",
   "execution_count": 107,
   "metadata": {},
   "outputs": [],
   "source": [
    "values =  df.groupby(\"message_length_category\").count().iloc[:, :1].values"
   ]
  },
  {
   "cell_type": "code",
   "execution_count": 84,
   "metadata": {},
   "outputs": [
    {
     "data": {
      "text/html": [
       "<div>\n",
       "<style scoped>\n",
       "    .dataframe tbody tr th:only-of-type {\n",
       "        vertical-align: middle;\n",
       "    }\n",
       "\n",
       "    .dataframe tbody tr th {\n",
       "        vertical-align: top;\n",
       "    }\n",
       "\n",
       "    .dataframe thead th {\n",
       "        text-align: right;\n",
       "    }\n",
       "</style>\n",
       "<table border=\"1\" class=\"dataframe\">\n",
       "  <thead>\n",
       "    <tr style=\"text-align: right;\">\n",
       "      <th></th>\n",
       "      <th>index</th>\n",
       "      <th>id</th>\n",
       "      <th>message</th>\n",
       "      <th>original</th>\n",
       "      <th>genre</th>\n",
       "      <th>related</th>\n",
       "      <th>request</th>\n",
       "      <th>offer</th>\n",
       "      <th>aid_related</th>\n",
       "      <th>medical_help</th>\n",
       "      <th>...</th>\n",
       "      <th>other_infrastructure</th>\n",
       "      <th>weather_related</th>\n",
       "      <th>floods</th>\n",
       "      <th>storm</th>\n",
       "      <th>fire</th>\n",
       "      <th>earthquake</th>\n",
       "      <th>cold</th>\n",
       "      <th>other_weather</th>\n",
       "      <th>direct_report</th>\n",
       "      <th>message_len</th>\n",
       "    </tr>\n",
       "    <tr>\n",
       "      <th>message_length_category</th>\n",
       "      <th></th>\n",
       "      <th></th>\n",
       "      <th></th>\n",
       "      <th></th>\n",
       "      <th></th>\n",
       "      <th></th>\n",
       "      <th></th>\n",
       "      <th></th>\n",
       "      <th></th>\n",
       "      <th></th>\n",
       "      <th></th>\n",
       "      <th></th>\n",
       "      <th></th>\n",
       "      <th></th>\n",
       "      <th></th>\n",
       "      <th></th>\n",
       "      <th></th>\n",
       "      <th></th>\n",
       "      <th></th>\n",
       "      <th></th>\n",
       "      <th></th>\n",
       "    </tr>\n",
       "  </thead>\n",
       "  <tbody>\n",
       "    <tr>\n",
       "      <th>&lt;= 100</th>\n",
       "      <td>7069</td>\n",
       "      <td>7069</td>\n",
       "      <td>7069</td>\n",
       "      <td>4410</td>\n",
       "      <td>7069</td>\n",
       "      <td>7069</td>\n",
       "      <td>7069</td>\n",
       "      <td>7069</td>\n",
       "      <td>7069</td>\n",
       "      <td>7069</td>\n",
       "      <td>...</td>\n",
       "      <td>7069</td>\n",
       "      <td>7069</td>\n",
       "      <td>7069</td>\n",
       "      <td>7069</td>\n",
       "      <td>7069</td>\n",
       "      <td>7069</td>\n",
       "      <td>7069</td>\n",
       "      <td>7069</td>\n",
       "      <td>7069</td>\n",
       "      <td>7069</td>\n",
       "    </tr>\n",
       "    <tr>\n",
       "      <th>&lt;= 150</th>\n",
       "      <td>6805</td>\n",
       "      <td>6805</td>\n",
       "      <td>6805</td>\n",
       "      <td>1969</td>\n",
       "      <td>6805</td>\n",
       "      <td>6805</td>\n",
       "      <td>6805</td>\n",
       "      <td>6805</td>\n",
       "      <td>6805</td>\n",
       "      <td>6805</td>\n",
       "      <td>...</td>\n",
       "      <td>6805</td>\n",
       "      <td>6805</td>\n",
       "      <td>6805</td>\n",
       "      <td>6805</td>\n",
       "      <td>6805</td>\n",
       "      <td>6805</td>\n",
       "      <td>6805</td>\n",
       "      <td>6805</td>\n",
       "      <td>6805</td>\n",
       "      <td>6805</td>\n",
       "    </tr>\n",
       "    <tr>\n",
       "      <th>&lt;= 50</th>\n",
       "      <td>2817</td>\n",
       "      <td>2817</td>\n",
       "      <td>2817</td>\n",
       "      <td>2417</td>\n",
       "      <td>2817</td>\n",
       "      <td>2817</td>\n",
       "      <td>2817</td>\n",
       "      <td>2817</td>\n",
       "      <td>2817</td>\n",
       "      <td>2817</td>\n",
       "      <td>...</td>\n",
       "      <td>2817</td>\n",
       "      <td>2817</td>\n",
       "      <td>2817</td>\n",
       "      <td>2817</td>\n",
       "      <td>2817</td>\n",
       "      <td>2817</td>\n",
       "      <td>2817</td>\n",
       "      <td>2817</td>\n",
       "      <td>2817</td>\n",
       "      <td>2817</td>\n",
       "    </tr>\n",
       "    <tr>\n",
       "      <th>&gt; 150</th>\n",
       "      <td>9332</td>\n",
       "      <td>9332</td>\n",
       "      <td>9332</td>\n",
       "      <td>1241</td>\n",
       "      <td>9332</td>\n",
       "      <td>9332</td>\n",
       "      <td>9332</td>\n",
       "      <td>9332</td>\n",
       "      <td>9332</td>\n",
       "      <td>9332</td>\n",
       "      <td>...</td>\n",
       "      <td>9332</td>\n",
       "      <td>9332</td>\n",
       "      <td>9332</td>\n",
       "      <td>9332</td>\n",
       "      <td>9332</td>\n",
       "      <td>9332</td>\n",
       "      <td>9332</td>\n",
       "      <td>9332</td>\n",
       "      <td>9332</td>\n",
       "      <td>9332</td>\n",
       "    </tr>\n",
       "  </tbody>\n",
       "</table>\n",
       "<p>4 rows × 42 columns</p>\n",
       "</div>"
      ],
      "text/plain": [
       "                         index    id  message  original  genre  related  \\\n",
       "message_length_category                                                   \n",
       "<= 100                    7069  7069     7069      4410   7069     7069   \n",
       "<= 150                    6805  6805     6805      1969   6805     6805   \n",
       "<= 50                     2817  2817     2817      2417   2817     2817   \n",
       "> 150                     9332  9332     9332      1241   9332     9332   \n",
       "\n",
       "                         request  offer  aid_related  medical_help  ...  \\\n",
       "message_length_category                                             ...   \n",
       "<= 100                      7069   7069         7069          7069  ...   \n",
       "<= 150                      6805   6805         6805          6805  ...   \n",
       "<= 50                       2817   2817         2817          2817  ...   \n",
       "> 150                       9332   9332         9332          9332  ...   \n",
       "\n",
       "                         other_infrastructure  weather_related  floods  storm  \\\n",
       "message_length_category                                                         \n",
       "<= 100                                   7069             7069    7069   7069   \n",
       "<= 150                                   6805             6805    6805   6805   \n",
       "<= 50                                    2817             2817    2817   2817   \n",
       "> 150                                    9332             9332    9332   9332   \n",
       "\n",
       "                         fire  earthquake  cold  other_weather  direct_report  \\\n",
       "message_length_category                                                         \n",
       "<= 100                   7069        7069  7069           7069           7069   \n",
       "<= 150                   6805        6805  6805           6805           6805   \n",
       "<= 50                    2817        2817  2817           2817           2817   \n",
       "> 150                    9332        9332  9332           9332           9332   \n",
       "\n",
       "                         message_len  \n",
       "message_length_category               \n",
       "<= 100                          7069  \n",
       "<= 150                          6805  \n",
       "<= 50                           2817  \n",
       "> 150                           9332  \n",
       "\n",
       "[4 rows x 42 columns]"
      ]
     },
     "execution_count": 84,
     "metadata": {},
     "output_type": "execute_result"
    }
   ],
   "source": [
    "df.groupby(\"message_length_category\").count()"
   ]
  },
  {
   "cell_type": "code",
   "execution_count": 74,
   "metadata": {},
   "outputs": [
    {
     "data": {
      "text/plain": [
       "array(['<= 100', '<= 50', '<= 150', '> 150'], dtype=object)"
      ]
     },
     "execution_count": 74,
     "metadata": {},
     "output_type": "execute_result"
    }
   ],
   "source": [
    "categories.unique()"
   ]
  },
  {
   "cell_type": "code",
   "execution_count": 86,
   "metadata": {},
   "outputs": [
    {
     "data": {
      "text/plain": [
       "array([[7069],\n",
       "       [6805],\n",
       "       [2817],\n",
       "       [9332]], dtype=int64)"
      ]
     },
     "execution_count": 86,
     "metadata": {},
     "output_type": "execute_result"
    }
   ],
   "source": [
    "values"
   ]
  },
  {
   "cell_type": "code",
   "execution_count": 87,
   "metadata": {},
   "outputs": [],
   "source": [
    "import seaborn as sns"
   ]
  },
  {
   "cell_type": "code",
   "execution_count": 117,
   "metadata": {},
   "outputs": [
    {
     "data": {
      "text/plain": [
       "<AxesSubplot:ylabel='index'>"
      ]
     },
     "execution_count": 117,
     "metadata": {},
     "output_type": "execute_result"
    },
    {
     "data": {
      "image/png": "[encoded data removed]",
      "text/plain": [
       "<Figure size 432x288 with 1 Axes>"
      ]
     },
     "metadata": {
      "needs_background": "light"
     },
     "output_type": "display_data"
    }
   ],
   "source": [
    "sns.barplot(x=categories, y=values)"
   ]
  },
  {
   "cell_type": "code",
   "execution_count": 116,
   "metadata": {},
   "outputs": [],
   "source": [
    "values =  df.groupby(\"message_length_category\").count().iloc[:, :1]"
   ]
  },
  {
   "cell_type": "code",
   "execution_count": 113,
   "metadata": {},
   "outputs": [],
   "source": [
    "values = values"
   ]
  },
  {
   "cell_type": "code",
   "execution_count": null,
   "metadata": {},
   "outputs": [],
   "source": []
  }
 ],
 "metadata": {
  "kernelspec": {
   "display_name": "Python 3",
   "language": "python",
   "name": "python3"
  },
  "language_info": {
   "codemirror_mode": {
    "name": "ipython",
    "version": 3
   },
   "file_extension": ".py",
   "mimetype": "text/x-python",
   "name": "python",
   "nbconvert_exporter": "python",
   "pygments_lexer": "ipython3",
   "version": "3.8.5"
  }
 },
 "nbformat": 4,
 "nbformat_minor": 2
}
